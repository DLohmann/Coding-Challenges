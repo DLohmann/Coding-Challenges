{
  "nbformat": 4,
  "nbformat_minor": 0,
  "metadata": {
    "colab": {
      "provenance": []
    },
    "kernelspec": {
      "name": "python3",
      "display_name": "Python 3"
    },
    "language_info": {
      "name": "python"
    }
  },
  "cells": [
    {
      "cell_type": "markdown",
      "source": [
        "From MindYourDecisions\n",
        "\n",
        "Find all integers `a, b >= 0` such that `sqrt(a) + sqrt(b) = sqrt(2023)`\n",
        "\n",
        "Bonus:\n",
        "Find all integers `a, b >= 0` such that `sqrt(a) + sqrt(b) = sqrt(n)`\n",
        "\n",
        "This is from https://youtu.be/pxHd8tLI65Q"
      ],
      "metadata": {
        "id": "zuxjptIbO88L"
      }
    },
    {
      "cell_type": "code",
      "source": [
        "# Basic way:\n",
        "import math\n",
        "\n",
        "def calc_b(a):\n",
        "  return 2023 + a - (2*math.sqrt(a*2023))\n",
        "\n",
        "def solve_all_integers(n=2023):\n",
        "  for a in range(0, math.floor(n/4)):\n",
        "    b = calc_b(a)\n",
        "    if b.is_integer():\n",
        "      yield (int(a), int(b))\n",
        "      yield (int(b), int(a))\n",
        "\n",
        "for pair in sorted(list(solve_all_integers())):\n",
        "  print(pair)"
      ],
      "metadata": {
        "colab": {
          "base_uri": "https://localhost:8080/"
        },
        "id": "3sRZG_qfPhn-",
        "outputId": "d804179c-2390-4d42-bd0d-f60a24172cec"
      },
      "execution_count": 68,
      "outputs": [
        {
          "output_type": "stream",
          "name": "stdout",
          "text": [
            "(0, 2023)\n",
            "(7, 1792)\n",
            "(28, 1575)\n",
            "(63, 1372)\n",
            "(112, 1183)\n",
            "(175, 1008)\n",
            "(252, 847)\n",
            "(343, 700)\n",
            "(448, 567)\n",
            "(567, 448)\n",
            "(700, 343)\n",
            "(847, 252)\n",
            "(1008, 175)\n",
            "(1183, 112)\n",
            "(1372, 63)\n",
            "(1575, 28)\n",
            "(1792, 7)\n",
            "(2023, 0)\n"
          ]
        }
      ]
    },
    {
      "cell_type": "code",
      "source": [
        "# Faster way:\n",
        "import math\n",
        "from sympy.ntheory import factorint\n",
        "\n",
        "def calc_b(a):\n",
        "  return 2023 + a - (2*math.sqrt(a*2023))\n",
        "\n",
        "def solve_all_integers_faster(n=2023):\n",
        "  square_constant = 1\n",
        "  nonsquare_constant = 1\n",
        "  for prime_factor, power in factorint(n).items():\n",
        "    if power%2 == 0:\n",
        "      square_constant *= int(prime_factor**(power/2))\n",
        "    else:\n",
        "      if power != 1:\n",
        "        square_constant *= int(prime_factor**((power - 1)/2))\n",
        "      nonsquare_constant *= prime_factor\n",
        "  for x in range(0, math.floor(square_constant/2) + 1):\n",
        "    y = square_constant - x\n",
        "    a = nonsquare_constant * x * x\n",
        "    b = nonsquare_constant * y * y\n",
        "    yield (a, b)\n",
        "    yield (b, a)\n",
        "\n",
        "for pair in sorted(list(solve_all_integers_faster())):\n",
        "  print(pair)\n"
      ],
      "metadata": {
        "colab": {
          "base_uri": "https://localhost:8080/"
        },
        "id": "UEhgW5XGQUWw",
        "outputId": "1c1e7581-d196-473e-d789-379c830842cb"
      },
      "execution_count": 69,
      "outputs": [
        {
          "output_type": "stream",
          "name": "stdout",
          "text": [
            "(0, 2023)\n",
            "(7, 1792)\n",
            "(28, 1575)\n",
            "(63, 1372)\n",
            "(112, 1183)\n",
            "(175, 1008)\n",
            "(252, 847)\n",
            "(343, 700)\n",
            "(448, 567)\n",
            "(567, 448)\n",
            "(700, 343)\n",
            "(847, 252)\n",
            "(1008, 175)\n",
            "(1183, 112)\n",
            "(1372, 63)\n",
            "(1575, 28)\n",
            "(1792, 7)\n",
            "(2023, 0)\n"
          ]
        }
      ]
    },
    {
      "cell_type": "code",
      "source": [
        "sorted(list(solve_all_integers_faster())) == sorted(list(solve_all_integers()))"
      ],
      "metadata": {
        "colab": {
          "base_uri": "https://localhost:8080/"
        },
        "id": "yRQR1ZjUZGs6",
        "outputId": "7b847cfd-edda-4f91-8d59-053106035a51"
      },
      "execution_count": 70,
      "outputs": [
        {
          "output_type": "execute_result",
          "data": {
            "text/plain": [
              "True"
            ]
          },
          "metadata": {},
          "execution_count": 70
        }
      ]
    },
    {
      "cell_type": "code",
      "source": [
        "list(enumerate(sorted(list(solve_all_integers_faster()))))"
      ],
      "metadata": {
        "colab": {
          "base_uri": "https://localhost:8080/"
        },
        "id": "8xDb6jqlZyYZ",
        "outputId": "1f1d3272-9039-41c1-83af-8efbe754cbf9"
      },
      "execution_count": 80,
      "outputs": [
        {
          "output_type": "execute_result",
          "data": {
            "text/plain": [
              "[(0, (0, 2023)),\n",
              " (1, (7, 1792)),\n",
              " (2, (28, 1575)),\n",
              " (3, (63, 1372)),\n",
              " (4, (112, 1183)),\n",
              " (5, (175, 1008)),\n",
              " (6, (252, 847)),\n",
              " (7, (343, 700)),\n",
              " (8, (448, 567)),\n",
              " (9, (567, 448)),\n",
              " (10, (700, 343)),\n",
              " (11, (847, 252)),\n",
              " (12, (1008, 175)),\n",
              " (13, (1183, 112)),\n",
              " (14, (1372, 63)),\n",
              " (15, (1575, 28)),\n",
              " (16, (1792, 7)),\n",
              " (17, (2023, 0))]"
            ]
          },
          "metadata": {},
          "execution_count": 80
        }
      ]
    },
    {
      "cell_type": "code",
      "source": [
        "list(enumerate(sorted(list(solve_all_integers()))))"
      ],
      "metadata": {
        "colab": {
          "base_uri": "https://localhost:8080/"
        },
        "id": "nbZnoyFGaPjd",
        "outputId": "319f3f9a-16a4-4c1d-ddba-ec10b06e692e"
      },
      "execution_count": 81,
      "outputs": [
        {
          "output_type": "execute_result",
          "data": {
            "text/plain": [
              "[(0, (0, 2023)),\n",
              " (1, (7, 1792)),\n",
              " (2, (28, 1575)),\n",
              " (3, (63, 1372)),\n",
              " (4, (112, 1183)),\n",
              " (5, (175, 1008)),\n",
              " (6, (252, 847)),\n",
              " (7, (343, 700)),\n",
              " (8, (448, 567)),\n",
              " (9, (567, 448)),\n",
              " (10, (700, 343)),\n",
              " (11, (847, 252)),\n",
              " (12, (1008, 175)),\n",
              " (13, (1183, 112)),\n",
              " (14, (1372, 63)),\n",
              " (15, (1575, 28)),\n",
              " (16, (1792, 7)),\n",
              " (17, (2023, 0))]"
            ]
          },
          "metadata": {},
          "execution_count": 81
        }
      ]
    },
    {
      "cell_type": "code",
      "source": [
        "from time import process_time_ns\n",
        "def benchmark(f):\n",
        "  t0 = process_time_ns()\n",
        "  list(f)\n",
        "  t1 = process_time_ns()\n",
        "  return t1 - t0\n",
        "print(\"Basic:\\t{} ns\".format(benchmark(solve_all_integers())))\n",
        "print(\"Faster:\\t{} ns\".format(benchmark(solve_all_integers_faster())))\n"
      ],
      "metadata": {
        "colab": {
          "base_uri": "https://localhost:8080/"
        },
        "id": "bc_eS5EPb3nq",
        "outputId": "47a8b473-6690-44f1-8873-508b06fbdcaf"
      },
      "execution_count": 88,
      "outputs": [
        {
          "output_type": "stream",
          "name": "stdout",
          "text": [
            "Basic:\t388847 ns\n",
            "Faster:\t72335 ns\n"
          ]
        }
      ]
    }
  ]
}