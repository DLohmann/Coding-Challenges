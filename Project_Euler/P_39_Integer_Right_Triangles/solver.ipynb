{
 "cells": [
  {
   "cell_type": "markdown",
   "metadata": {},
   "source": [
    "\n",
    "If $p$ is the perimeter of a right angle triangle with integral length sides, $\\{a, b, c\\}$, there are exactly three solutions for $p = 120$.\n",
    "$\\{20,48,52\\}$, $\\{24,45,51\\}$, $\\{30,40,50\\}$\n",
    "For which value of $p \\le 1000$, is the number of solutions maximised?\n",
    "\n",
    "https://projecteuler.net/problem=39"
   ]
  },
  {
   "cell_type": "markdown",
   "metadata": {},
   "source": [
    "#### Approach: Brute force try all options with the perimeter.\n",
    "* For a given p\n",
    "    * The first leg *a* = a number between *1* and *p - 2*\n",
    "    * The second leg *b* = a number between *a* and *p - 1*\n",
    "    * The third leg *c = p - a - b*\n",
    "    * Check using Pythagorean theorem. If the check passes, count this solution.\n",
    "* Try this for all p < 1000"
   ]
  },
  {
   "cell_type": "code",
   "execution_count": 8,
   "metadata": {},
   "outputs": [
    {
     "name": "stdout",
     "output_type": "stream",
     "text": [
      "(20, 48, 52)\n",
      "(24, 45, 51)\n",
      "(30, 40, 50)\n"
     ]
    }
   ],
   "source": [
    "def IntegerTrianglesWithPerimeter(p: int):\n",
    "    for a in range(1, p - 1):\n",
    "        for b in range(a, p):\n",
    "            c = p - a - b\n",
    "            if (a**2) + (b**2) == c**2:\n",
    "                yield (a, b, c)\n",
    "\n",
    "for t in IntegerTrianglesWithPerimeter(120):\n",
    "    print(t)"
   ]
  },
  {
   "cell_type": "code",
   "execution_count": 13,
   "metadata": {},
   "outputs": [
    {
     "name": "stdout",
     "output_type": "stream",
     "text": [
      "There are 8 integer right triangles with perimeter 840.\n"
     ]
    }
   ],
   "source": [
    "max_solutions = -1\n",
    "max_perimeter = 0\n",
    "for perimeter in range(1, 1000 + 1):\n",
    "    num_solutions = len([solution for solution in IntegerTrianglesWithPerimeter(perimeter)])\n",
    "    # if num_solutions > 0:\n",
    "    #     print(f'perimeter: {perimeter}, solutions: {num_solutions}')\n",
    "    if max_solutions < num_solutions:\n",
    "        max_solutions = num_solutions\n",
    "        max_perimeter = perimeter\n",
    "\n",
    "print(f'There are {max_solutions} integer right triangles with perimeter {max_perimeter}.')"
   ]
  },
  {
   "cell_type": "code",
   "execution_count": 15,
   "metadata": {},
   "outputs": [
    {
     "name": "stdout",
     "output_type": "stream",
     "text": [
      "(40, 399, 401)\n",
      "(56, 390, 394)\n",
      "(105, 360, 375)\n",
      "(120, 350, 370)\n",
      "(140, 336, 364)\n",
      "(168, 315, 357)\n",
      "(210, 280, 350)\n",
      "(240, 252, 348)\n"
     ]
    }
   ],
   "source": [
    "for t in IntegerTrianglesWithPerimeter(max_perimeter):\n",
    "    print(t)"
   ]
  },
  {
   "cell_type": "markdown",
   "metadata": {},
   "source": [
    "#### Note: Can also use the [tree of primitive Pythagorean triples](https://en.wikipedia.org/wiki/Tree_of_primitive_Pythagorean_triples) to find the number of solutions more efficiently as [this answer](https://stackoverflow.com/a/60209008/8694392) did. This avoids unneccesarily checking triples that are not Pythagorean.\n"
   ]
  }
 ],
 "metadata": {
  "kernelspec": {
   "display_name": "Python 3",
   "language": "python",
   "name": "python3"
  },
  "language_info": {
   "codemirror_mode": {
    "name": "ipython",
    "version": 3
   },
   "file_extension": ".py",
   "mimetype": "text/x-python",
   "name": "python",
   "nbconvert_exporter": "python",
   "pygments_lexer": "ipython3",
   "version": "3.10.12"
  }
 },
 "nbformat": 4,
 "nbformat_minor": 2
}
