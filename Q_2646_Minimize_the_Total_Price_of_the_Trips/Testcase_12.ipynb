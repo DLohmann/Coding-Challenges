{
 "cells": [
  {
   "cell_type": "markdown",
   "metadata": {},
   "source": [
    "# Testcase 12 / 407"
   ]
  },
  {
   "cell_type": "code",
   "execution_count": 1,
   "metadata": {},
   "outputs": [
    {
     "name": "stdout",
     "output_type": "stream",
     "text": [
      "price: [12, 13, 22, 12, 1]\n"
     ]
    }
   ],
   "source": [
    "import pandas as pd\n",
    "\n",
    "n = 5\n",
    "edges = [[1,2],[2,0],[0,3],[3,4]]\n",
    "trips = [[3,3],[3,2],[3,0],[3,4],[1,1],[2,2],[4,0],[0,2],[2,3],[2,1],[4,2],[0,1],[4,2],[0,4],[0,3],[4,0],[4,0],[3,3],[4,3],[2,2],[4,2],[1,4],[3,2],[4,4],[4,2],[2,3],[4,3],[4,4],[4,2],[0,4],[4,2],[3,4],[4,0],[3,2],[3,1],[2,0],[0,4],[3,4],[2,0],[1,4],[4,2],[4,4],[2,1],[0,1],[4,1],[3,4],[0,4],[2,0],[2,0],[3,3],[4,4],[0,1],[0,1],[0,1],[2,0],[0,1],[3,1],[3,4],[3,4],[4,2],[0,4],[4,4],[3,2],[2,1],[3,2],[1,4],[1,0],[4,2],[4,3],[3,1],[4,4],[3,1],[1,0],[0,0],[0,0],[3,0],[0,2],[2,2],[3,3],[0,3]]\n",
    "\n",
    "#         0, 1, 2, 3,4\n",
    "price = [12,26,22,12,2]\n",
    "\n",
    "price[1] = int(price[1] / 2)\n",
    "price[4] = int(price[4] / 2)\n",
    "\n",
    "print('price: ' + str(price))\n",
    "\n",
    "# All edges are in a line in graph\n",
    "graph = [1, 2, 0, 3, 4]"
   ]
  },
  {
   "cell_type": "code",
   "execution_count": 5,
   "metadata": {},
   "outputs": [
    {
     "name": "stdout",
     "output_type": "stream",
     "text": [
      "distance 0:0 = 12\n",
      "\tg: [0]\n",
      "\tp: [12]\n",
      "\n",
      "distance 0:1 = 47\n",
      "\tg: [1, 2, 0]\n",
      "\tp: [13, 22, 12]\n",
      "\n",
      "distance 0:2 = 34\n",
      "\tg: [2, 0]\n",
      "\tp: [22, 12]\n",
      "\n",
      "distance 0:3 = 24\n",
      "\tg: [0, 3]\n",
      "\tp: [12, 12]\n",
      "\n",
      "distance 0:4 = 25\n",
      "\tg: [0, 3, 4]\n",
      "\tp: [12, 12, 1]\n",
      "\n",
      "distance 1:0 = 47\n",
      "\tg: [1, 2, 0]\n",
      "\tp: [13, 22, 12]\n",
      "\n",
      "distance 1:1 = 13\n",
      "\tg: [1]\n",
      "\tp: [13]\n",
      "\n",
      "distance 1:2 = 35\n",
      "\tg: [1, 2]\n",
      "\tp: [13, 22]\n",
      "\n",
      "distance 1:3 = 59\n",
      "\tg: [1, 2, 0, 3]\n",
      "\tp: [13, 22, 12, 12]\n",
      "\n",
      "distance 1:4 = 60\n",
      "\tg: [1, 2, 0, 3, 4]\n",
      "\tp: [13, 22, 12, 12, 1]\n",
      "\n",
      "distance 2:0 = 34\n",
      "\tg: [2, 0]\n",
      "\tp: [22, 12]\n",
      "\n",
      "distance 2:1 = 35\n",
      "\tg: [1, 2]\n",
      "\tp: [13, 22]\n",
      "\n",
      "distance 2:2 = 22\n",
      "\tg: [2]\n",
      "\tp: [22]\n",
      "\n",
      "distance 2:3 = 46\n",
      "\tg: [2, 0, 3]\n",
      "\tp: [22, 12, 12]\n",
      "\n",
      "distance 2:4 = 47\n",
      "\tg: [2, 0, 3, 4]\n",
      "\tp: [22, 12, 12, 1]\n",
      "\n",
      "distance 3:0 = 24\n",
      "\tg: [0, 3]\n",
      "\tp: [12, 12]\n",
      "\n",
      "distance 3:1 = 59\n",
      "\tg: [1, 2, 0, 3]\n",
      "\tp: [13, 22, 12, 12]\n",
      "\n",
      "distance 3:2 = 46\n",
      "\tg: [2, 0, 3]\n",
      "\tp: [22, 12, 12]\n",
      "\n",
      "distance 3:3 = 12\n",
      "\tg: [3]\n",
      "\tp: [12]\n",
      "\n",
      "distance 3:4 = 13\n",
      "\tg: [3, 4]\n",
      "\tp: [12, 1]\n",
      "\n",
      "distance 4:0 = 25\n",
      "\tg: [0, 3, 4]\n",
      "\tp: [12, 12, 1]\n",
      "\n",
      "distance 4:1 = 60\n",
      "\tg: [1, 2, 0, 3, 4]\n",
      "\tp: [13, 22, 12, 12, 1]\n",
      "\n",
      "distance 4:2 = 47\n",
      "\tg: [2, 0, 3, 4]\n",
      "\tp: [22, 12, 12, 1]\n",
      "\n",
      "distance 4:3 = 13\n",
      "\tg: [3, 4]\n",
      "\tp: [12, 1]\n",
      "\n",
      "distance 4:4 = 1\n",
      "\tg: [4]\n",
      "\tp: [1]\n",
      "\n",
      "    0   1   2   3   4\n",
      "0  12  47  34  24  25\n",
      "1  47  13  35  59  60\n",
      "2  34  35  22  46  47\n",
      "3  24  59  46  12  13\n",
      "4  25  60  47  13   1\n"
     ]
    }
   ],
   "source": [
    "distance = [[0, 0, 0, 0, 0],\n",
    "            [0, 0, 0, 0, 0],\n",
    "            [0, 0, 0, 0, 0],\n",
    "            [0, 0, 0, 0, 0],\n",
    "            [0, 0, 0, 0, 0]]\n",
    "index_in_graph = {node : i for i, node in enumerate(graph)}\n",
    "\n",
    "for i in range(len(price)):\n",
    "    for j in range(len(price)):\n",
    "        i_index, j_index = index_in_graph[i], index_in_graph[j]\n",
    "        g = graph[ \\\n",
    "                    min(i_index, j_index): \\\n",
    "                    max(i_index, j_index) + 1]\n",
    "        p = [price[i] for i in g]\n",
    "        d = sum(p)\n",
    "        print(f'distance {i}:{j} = {d}')\n",
    "        print(f'\\tg: {g}')\n",
    "        print(f'\\tp: {p}\\n')\n",
    "        distance[i][j] = d\n",
    "\n",
    "\n",
    "df = pd.DataFrame(distance)\n",
    "print(df)"
   ]
  },
  {
   "cell_type": "code",
   "execution_count": 9,
   "metadata": {},
   "outputs": [
    {
     "name": "stdout",
     "output_type": "stream",
     "text": [
      "2535\n"
     ]
    }
   ],
   "source": [
    "total_cost = 0\n",
    "for trip in trips:\n",
    "    start = trip[0]\n",
    "    end = trip[1]\n",
    "    total_cost += distance[start][end]\n",
    "\n",
    "print(total_cost)"
   ]
  },
  {
   "cell_type": "markdown",
   "metadata": {},
   "source": [
    "# My answer: 2535\n",
    "# Expected: 2037"
   ]
  }
 ],
 "metadata": {
  "kernelspec": {
   "display_name": "Python 3",
   "language": "python",
   "name": "python3"
  },
  "language_info": {
   "codemirror_mode": {
    "name": "ipython",
    "version": 3
   },
   "file_extension": ".py",
   "mimetype": "text/x-python",
   "name": "python",
   "nbconvert_exporter": "python",
   "pygments_lexer": "ipython3",
   "version": "3.10.12"
  },
  "orig_nbformat": 4
 },
 "nbformat": 4,
 "nbformat_minor": 2
}
