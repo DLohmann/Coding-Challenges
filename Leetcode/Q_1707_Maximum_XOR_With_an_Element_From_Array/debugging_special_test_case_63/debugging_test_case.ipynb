{
 "cells": [
  {
   "cell_type": "markdown",
   "metadata": {},
   "source": [
    "### Test case 63: Figure out why results in line 3027 output (33554689) and expected (33554688) are different."
   ]
  },
  {
   "cell_type": "markdown",
   "metadata": {},
   "source": [
    "Thanks to Leetcoder for helping me figure this out:\n",
    "https://youtu.be/jUVnLi4uGzE"
   ]
  },
  {
   "cell_type": "code",
   "execution_count": 2,
   "metadata": {},
   "outputs": [
    {
     "name": "stdout",
     "output_type": "stream",
     "text": [
      "3027c3027\n",
      "< 33554689\n",
      "---\n",
      "> 33554688\n"
     ]
    }
   ],
   "source": [
    "!diff output.txt expected.txt"
   ]
  },
  {
   "cell_type": "code",
   "execution_count": 10,
   "metadata": {},
   "outputs": [
    {
     "name": "stdout",
     "output_type": "stream",
     "text": [
      "0b10000000000000000100000001\n",
      "0b10000000000000000100000000\n"
     ]
    }
   ],
   "source": [
    "print(bin(33554689))\n",
    "print(bin(33554688))"
   ]
  },
  {
   "cell_type": "code",
   "execution_count": 5,
   "metadata": {},
   "outputs": [
    {
     "name": "stdout",
     "output_type": "stream",
     "text": [
      "33554689\n"
     ]
    }
   ],
   "source": [
    "!sed \"3027q;d\" output.txt"
   ]
  },
  {
   "cell_type": "code",
   "execution_count": 7,
   "metadata": {},
   "outputs": [
    {
     "name": "stdout",
     "output_type": "stream",
     "text": [
      "33554688\n"
     ]
    }
   ],
   "source": [
    "!sed \"3027q;d\" expected.txt"
   ]
  },
  {
   "cell_type": "code",
   "execution_count": 12,
   "metadata": {},
   "outputs": [
    {
     "name": "stdout",
     "output_type": "stream",
     "text": [
      "33554432,256\n"
     ]
    }
   ],
   "source": [
    "!sed \"3027q;d\" input_queries.txt"
   ]
  },
  {
   "cell_type": "code",
   "execution_count": 20,
   "metadata": {},
   "outputs": [
    {
     "name": "stdout",
     "output_type": "stream",
     "text": [
      "33554432,256\n",
      "\n",
      "0b10000000000000000000000000\n"
     ]
    }
   ],
   "source": [
    "with open('input_queries.txt', 'r') as queries_f:\n",
    "    queries = queries_f.readlines()\n",
    "    print(queries[3027 - 1])\n",
    "    print(bin(int(queries[3027 - 1].split(',')[0])))"
   ]
  },
  {
   "cell_type": "code",
   "execution_count": 21,
   "metadata": {},
   "outputs": [],
   "source": [
    "nums_f = open('input_nums.txt')\n",
    "nums = [int(line) for line in nums_f]\n",
    "nums_f.close()\n",
    "\n",
    "queries_f = open('input_queries.txt', 'r')\n",
    "queries = [[int(line.split(',')[0]), int(line.split(',')[1])] for line in queries_f]\n",
    "queries_f.close()"
   ]
  },
  {
   "cell_type": "code",
   "execution_count": 30,
   "metadata": {},
   "outputs": [
    {
     "name": "stdout",
     "output_type": "stream",
     "text": [
      "x = 33554432 (0b10000000000000000000000000), m = 256 (0b100000000)\n",
      "num of nums =  256  =  0b100000000\n",
      "x ^ num = 33554688 = 0b10000000000000000100000000\n"
     ]
    }
   ],
   "source": [
    "x, m = queries[3027 - 1]\n",
    "print(f'x = {x} ({bin(x)}), m = {m} ({bin(m)})')\n",
    "num = max((n for n in nums if n <= m), key=lambda n: n^x, default=-1) # from https://stackoverflow.com/a/66083397/8694392\n",
    "print('num of nums = ', num, ' = ', bin(num))\n",
    "print(f'x ^ num = {x ^ num} = {bin(x ^ num)}')\n"
   ]
  },
  {
   "cell_type": "markdown",
   "metadata": {},
   "source": [
    "Modifying my code to print chosen num when x = 33554432 and m = 256.\n",
    "```cpp\n",
    "if (x == 33554432 && m == 256) {\n",
    "    cout << \"Special case x = 33554432, m = 256\" << endl << \"\\tchosen num = \" << current_amount << \", xor: \" << int(x ^ current_amount) << endl;\n",
    "}\n",
    "```\n",
    "Output:\n",
    "```\n",
    "Special case x = 33554432, m = 256\n",
    "\tchosen num = 257, xor: 33554689\n",
    "```\n",
    "For my code in this case, num = 257????\n",
    "\n",
    "# TODO: Figure out why 257 is chosen, if m == 256 and num should be chosen so num <= m"
   ]
  },
  {
   "cell_type": "code",
   "execution_count": 32,
   "metadata": {},
   "outputs": [
    {
     "name": "stdout",
     "output_type": "stream",
     "text": [
      "chosen num = 257 (0b100000001), xor output = 33554689 = 0b10000000000000000100000001\n"
     ]
    }
   ],
   "source": [
    "print(f'chosen num = 257 ({bin(257)}), xor output = 33554689 = {bin(33554689)}')"
   ]
  },
  {
   "cell_type": "markdown",
   "metadata": {},
   "source": [
    "\n",
    "```\n",
    "x        = 0b 0000 0010  0000 0000  0000 0000  0000 0000\n",
    "m        = 0b 0000 0000  0000 0000  0000 0001  0000 0000\n",
    "out num  = 0b 0000 0000  0000 0000  0000 0001  0000 0001\n",
    "num      = 0b 0000 0000  0000 0000  0000 0001  0000 0000\n",
    "output   = 0b 0000 0010  0000 0000  0000 0001  0000 0001\n",
    "expected = 0b 0000 0010  0000 0000  0000 0001  0000 0000\n",
    "```"
   ]
  },
  {
   "cell_type": "markdown",
   "metadata": {},
   "source": [
    "# Update: Solution Found!!!!\n",
    "I think the problem was most likely when building the trie in `addToBinaryTrie(int val)` that:\n",
    "The min value in the lowermost level \"leaf\" nodes of the trie (corresponding to the rightmost least significant bit) was not set correctly. So at these nodes the min value of the trie could still be set to INT_MAX which could cause the algorithm to consider both nodes to have a min value of INT_MIN instead of the value of the node as it shouuld be. This could potentially causing the algorithm to not take the min into account when choosing between the 2 leaf branches, and so to choose the final node for the rightmost least significant bit based on the least significant bit in x instead of based on which branch has a min <= m.\n",
    "\n",
    "The trie should have 33 levels (1 root + 32 levels for each bit in C++ int). So the `for` loop setting the min value was setting the min before traversing to the next node for the next bit, and then stopping after getting to the next bit. So I think I fixed this by first setting the min of the root node manually, and then in the 'for' loop traverse to the next lower level before setting the min there.\n",
    "\n",
    "\n",
    "### The fix:\n",
    "\n",
    "```cpp\n",
    "void addToBinaryTrie(int val) {\n",
    "    ...\n",
    "    if (root == nullptr) {\n",
    "        root = new Node();\n",
    "    }\n",
    "    Node* current = root;\n",
    "    if (root->min > val) { // Set the root min separately.\n",
    "        root->min = val;\n",
    "    }\n",
    "    for(int i = 0; i < sizeof(int) * 8; i++) { // Runs for 32 iterations.\n",
    "\n",
    "        ... add bits from val into trie ...\n",
    "        \n",
    "        if (current->min > val) { // Set the min before next iteration.\n",
    "            current->min = val;\n",
    "        }\n",
    "    }\n",
    "    // Trie has 32 + 1 = 33 levels, and the min should probably be set correctly for nodes in each level.\n",
    "}\n",
    "```\n",
    "\n"
   ]
  },
  {
   "cell_type": "markdown",
   "metadata": {},
   "source": [
    "#### Different trie approach from a Stackoverflow responder"
   ]
  },
  {
   "cell_type": "code",
   "execution_count": 33,
   "metadata": {},
   "outputs": [],
   "source": [
    "# From https://stackoverflow.com/a/66083223/8694392\n",
    "from typing import List\n",
    "\n",
    "\n",
    "class Trie:\n",
    "    def __init__(self):\n",
    "        self.root = {}\n",
    "    \n",
    "    def add(self, n):\n",
    "        p = self.root\n",
    "        for bitpos in range(31, -1, -1):\n",
    "            bit = (n >> bitpos) & 1\n",
    "            if bit not in p:\n",
    "                p[bit] = {}\n",
    "            p = p[bit]\n",
    "    \n",
    "    def query(self, n):\n",
    "        p = self.root\n",
    "        ret = 0\n",
    "        if not p:\n",
    "            return -1\n",
    "        for bitpos in range(31, -1, -1):\n",
    "            bit = (n >> bitpos) & 1\n",
    "            inverse = 1 - bit\n",
    "            if inverse in p:\n",
    "                p = p[inverse]\n",
    "                ret |= (1 << bitpos)\n",
    "            else:\n",
    "                p = p[bit]\n",
    "                \n",
    "        return ret\n",
    "\n",
    "class Solution:\n",
    "    def maximizeXor(self, nums: List[int], queries: List[List[int]]) -> List[int]:\n",
    "        \n",
    "        n = len(nums)\n",
    "        trie = Trie()\n",
    "        q = sorted(enumerate(queries), key = lambda x: x[1][1])\n",
    "        nums.sort()\n",
    "        res = [-1] * len(queries)\n",
    "        i = 0\n",
    "        for index, (x, m) in q:\n",
    "            while i < n and nums[i] <= m:\n",
    "                trie.add(nums[i])\n",
    "                i += 1\n",
    "            res[index] = trie.query(x)\n",
    "        return res"
   ]
  },
  {
   "cell_type": "code",
   "execution_count": 34,
   "metadata": {},
   "outputs": [],
   "source": [
    "output = Solution().maximizeXor(nums, queries)\n",
    "expected_f = open('expected.txt', 'r')\n",
    "expected = [int(line) for line in expected_f]\n",
    "expected_f.close()"
   ]
  }
 ],
 "metadata": {
  "kernelspec": {
   "display_name": "Python 3",
   "language": "python",
   "name": "python3"
  },
  "language_info": {
   "codemirror_mode": {
    "name": "ipython",
    "version": 3
   },
   "file_extension": ".py",
   "mimetype": "text/x-python",
   "name": "python",
   "nbconvert_exporter": "python",
   "pygments_lexer": "ipython3",
   "version": "3.10.6"
  },
  "orig_nbformat": 4
 },
 "nbformat": 4,
 "nbformat_minor": 2
}
