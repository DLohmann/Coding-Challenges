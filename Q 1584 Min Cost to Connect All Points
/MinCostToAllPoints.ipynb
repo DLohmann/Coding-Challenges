{
 "cells": [
  {
   "cell_type": "code",
   "execution_count": 9,
   "metadata": {},
   "outputs": [],
   "source": [
    "from typing import List\n",
    "import math"
   ]
  },
  {
   "cell_type": "code",
   "execution_count": 18,
   "metadata": {},
   "outputs": [],
   "source": [
    "def gridDistance(point1: List[int], point2: List[int]):\n",
    "\treturn abs(point1[0] - point2[0]) + abs(point1[1] - point2[1])"
   ]
  },
  {
   "cell_type": "code",
   "execution_count": 37,
   "metadata": {},
   "outputs": [],
   "source": [
    "def measureDijkstraTreeFromPoint(points: List[List[int]], root: List[int]) -> int:\n",
    "\t# edges = [[math.inf for point in points] for point in points]\n",
    "\t# edges[i][i] = 0.0 for i in range(points)\n",
    "\ttreeSize: float = 0\n",
    "\texplored = [ root ]\n",
    "\tunexplored = points\n",
    "\tunexplored.remove(root)\n",
    "\twhile (len(unexplored) > 0):\n",
    "\t\tclosest_unexplored_point = None\n",
    "\t\tclosest_explored_point = None\n",
    "\t\tclosest_distance = math.inf\n",
    "\t\t# print(\"unexplored: {0}\\nexplored: {1}\".format(unexplored, explored))\n",
    "\t\tfor unexplored_point in unexplored:\n",
    "\t\t\tfor explored_point in explored:\n",
    "\t\t\t\tdistance = gridDistance(unexplored_point, explored_point)\n",
    "\t\t\t\t# print(\"\\tdistance({0}, {1}) == {2}\".format(unexplored_point, explored_point, distance))\n",
    "\t\t\t\tif (distance < closest_distance):\n",
    "\t\t\t\t\tclosest_unexplored_point = unexplored_point\n",
    "\t\t\t\t\tclosest_explored_point = explored_point\n",
    "\t\t\t\t\tclosest_distance = distance\n",
    "\t\tunexplored.remove(closest_unexplored_point)\n",
    "\t\texplored.append(closest_unexplored_point)\n",
    "\t\ttreeSize += closest_distance\n",
    "\treturn treeSize"
   ]
  },
  {
   "cell_type": "code",
   "execution_count": 33,
   "metadata": {},
   "outputs": [
    {
     "name": "stdout",
     "output_type": "stream",
     "text": [
      "unexplored: [[3, 0], [3, 4]]\n",
      "explored: [[0, 0]]\n",
      "\tdistance([3, 0], [0, 0]) == 3\n",
      "\tdistance([3, 4], [0, 0]) == 7\n",
      "unexplored: [[3, 4]]\n",
      "explored: [[0, 0], [3, 0]]\n",
      "\tdistance([3, 4], [0, 0]) == 7\n",
      "\tdistance([3, 4], [3, 0]) == 4\n"
     ]
    },
    {
     "data": {
      "text/plain": [
       "7"
      ]
     },
     "execution_count": 33,
     "metadata": {},
     "output_type": "execute_result"
    }
   ],
   "source": [
    "measureDijkstraTreeFromPoint([[0, 0], [3, 0], [3, 4]], [0, 0])"
   ]
  },
  {
   "cell_type": "code",
   "execution_count": 34,
   "metadata": {},
   "outputs": [],
   "source": [
    "def minCostConnectPoints(points: List[List[int]]) -> int:\n",
    "\tmin_cost: float = math.inf\n",
    "\tfor point in points:\n",
    "\t\tcost = measureDijkstraTreeFromPoint(points, point)\n",
    "\t\tmin_cost = min(cost, min_cost)\n",
    "\treturn min_cost"
   ]
  },
  {
   "cell_type": "code",
   "execution_count": 38,
   "metadata": {},
   "outputs": [
    {
     "name": "stdout",
     "output_type": "stream",
     "text": [
      "20\n",
      "18\n"
     ]
    }
   ],
   "source": [
    "print(minCostConnectPoints([[0,0],[2,2],[3,10],[5,2],[7,0]])) # should be 20\n",
    "print(minCostConnectPoints([[3,12],[-2,5],[-4,1]])) # should be 18"
   ]
  }
 ],
 "metadata": {
  "kernelspec": {
   "display_name": "Python 3.10.4 64-bit",
   "language": "python",
   "name": "python3"
  },
  "language_info": {
   "codemirror_mode": {
    "name": "ipython",
    "version": 3
   },
   "file_extension": ".py",
   "mimetype": "text/x-python",
   "name": "python",
   "nbconvert_exporter": "python",
   "pygments_lexer": "ipython3",
   "version": "3.10.4"
  },
  "orig_nbformat": 4,
  "vscode": {
   "interpreter": {
    "hash": "31f2aee4e71d21fbe5cf8b01ff0e069b9275f58929596ceb00d14d90e3e16cd6"
   }
  }
 },
 "nbformat": 4,
 "nbformat_minor": 2
}
