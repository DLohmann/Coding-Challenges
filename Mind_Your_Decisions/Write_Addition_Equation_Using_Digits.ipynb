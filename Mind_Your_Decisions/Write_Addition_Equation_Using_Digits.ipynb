{
 "cells": [
  {
   "cell_type": "markdown",
   "metadata": {},
   "source": [
    "### Can you solve this 2nd grade problem that has baffled adults?\n",
    "From https://youtu.be/2hLqEEdK3a4\n",
    "\n",
    "7) **Stretch Your Thinking** Write an addition equation\n",
    "\n",
    "The equation must have a 1-, a 2-, and a 3-digit addend and use all of these digits.\n",
    "\n",
    "**6 6 2 2 8 8 0 0 0**\n"
   ]
  },
  {
   "cell_type": "code",
   "execution_count": 2,
   "metadata": {},
   "outputs": [
    {
     "name": "stdout",
     "output_type": "stream",
     "text": [
      "0 + 00 + 268 = 268\n",
      "0 + 00 + 286 = 286\n",
      "0 + 00 + 628 = 628\n",
      "0 + 00 + 682 = 682\n",
      "0 + 00 + 826 = 826\n",
      "0 + 00 + 862 = 862\n",
      "0 + 02 + 680 = 682\n",
      "0 + 02 + 860 = 862\n",
      "0 + 06 + 280 = 286\n",
      "0 + 06 + 820 = 826\n",
      "0 + 08 + 260 = 268\n",
      "0 + 08 + 620 = 628\n",
      "0 + 20 + 608 = 628\n",
      "0 + 20 + 806 = 826\n",
      "0 + 22 + 066 = 088\n",
      "0 + 26 + 062 = 088\n",
      "0 + 26 + 800 = 826\n",
      "0 + 28 + 600 = 628\n",
      "0 + 60 + 208 = 268\n",
      "0 + 60 + 802 = 862\n",
      "0 + 62 + 026 = 088\n",
      "0 + 62 + 800 = 862\n",
      "0 + 66 + 022 = 088\n",
      "0 + 68 + 200 = 268\n",
      "0 + 80 + 206 = 286\n",
      "0 + 80 + 602 = 682\n",
      "0 + 82 + 600 = 682\n",
      "0 + 86 + 200 = 286\n",
      "2 + 00 + 680 = 682\n",
      "2 + 00 + 860 = 862\n",
      "2 + 20 + 066 = 088\n",
      "2 + 26 + 060 = 088\n",
      "2 + 60 + 026 = 088\n",
      "2 + 60 + 800 = 862\n",
      "2 + 66 + 020 = 088\n",
      "2 + 80 + 600 = 682\n",
      "6 + 00 + 280 = 286\n",
      "6 + 00 + 820 = 826\n",
      "6 + 20 + 062 = 088\n",
      "6 + 20 + 800 = 826\n",
      "6 + 22 + 060 = 088\n",
      "6 + 60 + 022 = 088\n",
      "6 + 62 + 020 = 088\n",
      "6 + 80 + 200 = 286\n",
      "8 + 00 + 260 = 268\n",
      "8 + 00 + 620 = 628\n",
      "8 + 20 + 600 = 628\n",
      "8 + 60 + 200 = 268\n",
      "48 unique solutions\n"
     ]
    }
   ],
   "source": [
    "from itertools import permutations\n",
    "solutions = set()\n",
    "for permutation in permutations('662288000'):\n",
    "    digits = ''.join(permutation)\n",
    "    if int(digits[0]) + int(digits[1:3]) + int(digits[3:6]) == int(digits[6:]):\n",
    "        solutions.add(digits)\n",
    "\n",
    "        \n",
    "for digits in sorted(solutions):\n",
    "    print(digits[0], '+', digits[1:3], '+', digits[3:6], '=', digits[6:])\n",
    "\n",
    "print(len(solutions), 'unique solutions')"
   ]
  },
  {
   "cell_type": "markdown",
   "metadata": {},
   "source": [
    "*Youtube comment:*\n",
    "\n",
    "To find all the permutations in Python:\n",
    "```python\n",
    "from itertools import permutations\n",
    "digit_str = '662288000'\n",
    "num_solutions = 0\n",
    "for permutation in permutations(digit_str):\n",
    "    digits = ''.join(permutation)\n",
    "    if int(digits[0]) + int(digits[1:3]) + int(digits[3:6]) == int(digits[6:]):\n",
    "        if num_solutions < 10:\n",
    "            print(digits[0], '+', digits[1:3], '+', digits[3:6], '==', digits[6:])\n",
    "        num_solutions += 1\n",
    "print('num_solutions (including duplicates): ', num_solutions)\n",
    "```\n",
    "Since there are only 9 digits, there should be 9 factorial, or 362880 permutations, which a PC should compute in a few seconds.\n",
    "\n",
    "This prints that there are 2304 solutions including duplicates.\n",
    "The only problem is that for the duplicate digits (two 2's, 6's, and 8's, and three 0's) there will be duplicate solutions.\n",
    "Since the 2's, 6's, and 8's can be switched with their pair, and the three 0's can be reordered, then my understanding is that the solution should be overcounting (2!)*(2!)*(2!)*(3!), or 48 times.\n",
    "So my understanding is that excluding duplicates there should be 2304  / 48, or 48 solutions."
   ]
  },
  {
   "cell_type": "markdown",
   "metadata": {},
   "source": [
    "*My thoughts:*\n",
    "\n",
    "It seems that there are 9 digits, meaning $9! = 362880$ permutations including duplicate re-orderings, but $$\\frac{362880}{(2!)*(2!)*(2!)*(3!)} = 7560$$ combinations accounting for re-ordering duplicate digits.\n",
    "\n",
    "The proportion of correct solutions out of all unique combinations is $48 / 7560 = 0.0063...$\n",
    "\n",
    "So if a person manually tried to guess unique combinations randomly, then they might take a long time before actually finding a solution.\n",
    "\n"
   ]
  }
 ],
 "metadata": {
  "kernelspec": {
   "display_name": "Python 3",
   "language": "python",
   "name": "python3"
  },
  "language_info": {
   "codemirror_mode": {
    "name": "ipython",
    "version": 3
   },
   "file_extension": ".py",
   "mimetype": "text/x-python",
   "name": "python",
   "nbconvert_exporter": "python",
   "pygments_lexer": "ipython3",
   "version": "3.10.12"
  }
 },
 "nbformat": 4,
 "nbformat_minor": 2
}
