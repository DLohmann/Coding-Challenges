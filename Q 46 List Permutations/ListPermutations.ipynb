{
 "cells": [
  {
   "cell_type": "code",
   "execution_count": 21,
   "metadata": {},
   "outputs": [],
   "source": [
    "def shuffle(arr):\n",
    "\tif len(arr) <= 1:\n",
    "\t\t\treturn [arr]\n",
    "\tarr_shorter = shuffle(arr[1::])\n",
    "\t# print(\"arr_shorter: \", arr_shorter)\n",
    "\tsolutions = []\n",
    "\tfor next_arr_shorter in arr_shorter:\n",
    "\t\t\tfor i in range(len(arr)):\n",
    "\t\t\t\t\tnext_arr = next_arr_shorter.copy()\n",
    "\t\t\t\t\t# print(\"next_arr: \", next_arr)\n",
    "\t\t\t\t\tnext_arr.insert(i, arr[0])\n",
    "\t\t\t\t\t# print(\"solution: \", next_arr)\n",
    "\t\t\t\t\tsolutions.append(next_arr)\n",
    "\treturn solutions"
   ]
  },
  {
   "cell_type": "code",
   "execution_count": 24,
   "metadata": {},
   "outputs": [
    {
     "name": "stdout",
     "output_type": "stream",
     "text": [
      "[[]]\n",
      "[[1]]\n",
      "[[1, 2], [2, 1]]\n",
      "[[1, 2, 3], [2, 1, 3], [2, 3, 1], [1, 3, 2], [3, 1, 2], [3, 2, 1]]\n",
      "24\n"
     ]
    }
   ],
   "source": [
    "print(shuffle([]))\n",
    "print(shuffle([1]))\n",
    "print(shuffle([1, 2]))\n",
    "print(shuffle([1, 2, 3]))\n",
    "print(len(shuffle([1, 2, 3, 4])))\n",
    "# Complexity grows exponentially"
   ]
  },
  {
   "cell_type": "code",
   "execution_count": null,
   "metadata": {},
   "outputs": [],
   "source": []
  }
 ],
 "metadata": {
  "kernelspec": {
   "display_name": "Python 3.8.10 64-bit",
   "language": "python",
   "name": "python3"
  },
  "language_info": {
   "codemirror_mode": {
    "name": "ipython",
    "version": 3
   },
   "file_extension": ".py",
   "mimetype": "text/x-python",
   "name": "python",
   "nbconvert_exporter": "python",
   "pygments_lexer": "ipython3",
   "version": "3.8.10"
  },
  "orig_nbformat": 4,
  "vscode": {
   "interpreter": {
    "hash": "31f2aee4e71d21fbe5cf8b01ff0e069b9275f58929596ceb00d14d90e3e16cd6"
   }
  }
 },
 "nbformat": 4,
 "nbformat_minor": 2
}
